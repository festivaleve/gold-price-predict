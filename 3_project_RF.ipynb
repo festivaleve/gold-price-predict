{
  "nbformat": 4,
  "nbformat_minor": 0,
  "metadata": {
    "colab": {
      "name": "3. project_RF.ipynb",
      "version": "0.3.2",
      "provenance": [],
      "collapsed_sections": []
    },
    "kernelspec": {
      "name": "python3",
      "display_name": "Python 3"
    }
  },
  "cells": [
    {
      "cell_type": "code",
      "metadata": {
        "id": "jIZSImzVG0K0",
        "colab_type": "code",
        "colab": {}
      },
      "source": [
        "import os\n",
        "import pandas as pd\n",
        "import numpy as np\n",
        "import matplotlib.pyplot as plt\n",
        "import pickle"
      ],
      "execution_count": 0,
      "outputs": []
    },
    {
      "cell_type": "code",
      "metadata": {
        "id": "KGwfYs0F05HQ",
        "colab_type": "code",
        "colab": {}
      },
      "source": [
        "from sklearn.preprocessing import StandardScaler\n",
        "from sklearn.model_selection import train_test_split\n",
        "from sklearn.model_selection import GridSearchCV\n",
        "from sklearn.ensemble import RandomForestRegressor\n",
        "from sklearn.metrics import r2_score\n",
        "from sklearn.metrics import mean_squared_error\n",
        "from sklearn.metrics import mean_absolute_error"
      ],
      "execution_count": 0,
      "outputs": []
    },
    {
      "cell_type": "code",
      "metadata": {
        "id": "N1xLVDaRG7RC",
        "colab_type": "code",
        "outputId": "d835a3e5-b878-42b8-f506-969b6678c183",
        "colab": {
          "base_uri": "https://localhost:8080/",
          "height": 125
        }
      },
      "source": [
        "from google.colab import drive\n",
        "drive.mount('/content/drive')"
      ],
      "execution_count": 0,
      "outputs": [
        {
          "output_type": "stream",
          "text": [
            "Go to this URL in a browser: https://accounts.google.com/o/oauth2/auth?client_id=947318989803-6bn6qk8qdgf4n4g3pfee6491hc0brc4i.apps.googleusercontent.com&redirect_uri=urn%3Aietf%3Awg%3Aoauth%3A2.0%3Aoob&scope=email%20https%3A%2F%2Fwww.googleapis.com%2Fauth%2Fdocs.test%20https%3A%2F%2Fwww.googleapis.com%2Fauth%2Fdrive%20https%3A%2F%2Fwww.googleapis.com%2Fauth%2Fdrive.photos.readonly%20https%3A%2F%2Fwww.googleapis.com%2Fauth%2Fpeopleapi.readonly&response_type=code\n",
            "\n",
            "Enter your authorization code:\n",
            "··········\n",
            "Mounted at /content/drive\n"
          ],
          "name": "stdout"
        }
      ]
    },
    {
      "cell_type": "code",
      "metadata": {
        "id": "mdKjxaCAG7TI",
        "colab_type": "code",
        "colab": {}
      },
      "source": [
        "os.chdir('')"
      ],
      "execution_count": 0,
      "outputs": []
    },
    {
      "cell_type": "code",
      "metadata": {
        "id": "OE9YVdXqG7V0",
        "colab_type": "code",
        "colab": {}
      },
      "source": [
        "# 데이터 불러오기\n",
        "gold = pickle.load(open('pre_gold_price.pkl','rb'))"
      ],
      "execution_count": 0,
      "outputs": []
    },
    {
      "cell_type": "code",
      "metadata": {
        "id": "vWYIj52_-Nhn",
        "colab_type": "code",
        "colab": {}
      },
      "source": [
        "# 데이터 추출\n",
        "feature = gold.loc[:, ['index_price', 'cny/krw', 'usd/krw', '100jpy/krw', 'eur/krw', 'gbp/krw', 'nasdaq', 'kospi', 'dow', 'snp500']]"
      ],
      "execution_count": 0,
      "outputs": []
    },
    {
      "cell_type": "code",
      "metadata": {
        "id": "4iNKiT_MG7Y2",
        "colab_type": "code",
        "colab": {}
      },
      "source": [
        "# 데이터 추출\n",
        "feature = gold.loc[:, ['index_price', 'cny/krw', 'usd/krw', '100jpy/krw',\n",
        "                       'eur/krw', 'gbp/krw', 'nasdaq', 'kospi', 'dow',\n",
        "                       'snp500']]\n",
        "# scale\n",
        "scaler = StandardScaler()\n",
        "scaler.fit(feature)\n",
        "X_scaled = scaler.transform(feature)\n",
        "X_scaled = pd.DataFrame(X_scaled)"
      ],
      "execution_count": 0,
      "outputs": []
    },
    {
      "cell_type": "code",
      "metadata": {
        "id": "7rLoS5VmV6aF",
        "colab_type": "code",
        "outputId": "758d7105-5014-4d5a-c27c-91d0ae7e044a",
        "colab": {
          "base_uri": "https://localhost:8080/",
          "height": 166
        }
      },
      "source": [
        "feature.head(3)"
      ],
      "execution_count": 0,
      "outputs": [
        {
          "output_type": "execute_result",
          "data": {
            "text/html": [
              "<div>\n",
              "<style scoped>\n",
              "    .dataframe tbody tr th:only-of-type {\n",
              "        vertical-align: middle;\n",
              "    }\n",
              "\n",
              "    .dataframe tbody tr th {\n",
              "        vertical-align: top;\n",
              "    }\n",
              "\n",
              "    .dataframe thead th {\n",
              "        text-align: right;\n",
              "    }\n",
              "</style>\n",
              "<table border=\"1\" class=\"dataframe\">\n",
              "  <thead>\n",
              "    <tr style=\"text-align: right;\">\n",
              "      <th></th>\n",
              "      <th>index_price</th>\n",
              "      <th>cny/krw</th>\n",
              "      <th>usd/krw</th>\n",
              "      <th>100jpy/krw</th>\n",
              "      <th>eur/krw</th>\n",
              "      <th>gbp/krw</th>\n",
              "      <th>nasdaq</th>\n",
              "      <th>kospi</th>\n",
              "      <th>dow</th>\n",
              "      <th>snp500</th>\n",
              "    </tr>\n",
              "    <tr>\n",
              "      <th>Date</th>\n",
              "      <th></th>\n",
              "      <th></th>\n",
              "      <th></th>\n",
              "      <th></th>\n",
              "      <th></th>\n",
              "      <th></th>\n",
              "      <th></th>\n",
              "      <th></th>\n",
              "      <th></th>\n",
              "      <th></th>\n",
              "    </tr>\n",
              "  </thead>\n",
              "  <tbody>\n",
              "    <tr>\n",
              "      <th>2010-01-04</th>\n",
              "      <td>77.830</td>\n",
              "      <td>168.83</td>\n",
              "      <td>1152.5</td>\n",
              "      <td>1240.85</td>\n",
              "      <td>1650.50</td>\n",
              "      <td>1861.06</td>\n",
              "      <td>2303.361914</td>\n",
              "      <td>1690.367993</td>\n",
              "      <td>10526.854102</td>\n",
              "      <td>1126.594019</td>\n",
              "    </tr>\n",
              "    <tr>\n",
              "      <th>2010-01-05</th>\n",
              "      <td>77.850</td>\n",
              "      <td>167.27</td>\n",
              "      <td>1142.0</td>\n",
              "      <td>1241.17</td>\n",
              "      <td>1646.99</td>\n",
              "      <td>1832.45</td>\n",
              "      <td>2306.808008</td>\n",
              "      <td>1694.339990</td>\n",
              "      <td>10567.135547</td>\n",
              "      <td>1134.398023</td>\n",
              "    </tr>\n",
              "    <tr>\n",
              "      <th>2010-01-06</th>\n",
              "      <td>77.655</td>\n",
              "      <td>166.45</td>\n",
              "      <td>1136.5</td>\n",
              "      <td>1233.32</td>\n",
              "      <td>1628.60</td>\n",
              "      <td>1821.47</td>\n",
              "      <td>2303.928027</td>\n",
              "      <td>1702.301978</td>\n",
              "      <td>10570.723828</td>\n",
              "      <td>1136.625977</td>\n",
              "    </tr>\n",
              "  </tbody>\n",
              "</table>\n",
              "</div>"
            ],
            "text/plain": [
              "            index_price  cny/krw  ...           dow       snp500\n",
              "Date                              ...                           \n",
              "2010-01-04       77.830   168.83  ...  10526.854102  1126.594019\n",
              "2010-01-05       77.850   167.27  ...  10567.135547  1134.398023\n",
              "2010-01-06       77.655   166.45  ...  10570.723828  1136.625977\n",
              "\n",
              "[3 rows x 10 columns]"
            ]
          },
          "metadata": {
            "tags": []
          },
          "execution_count": 20
        }
      ]
    },
    {
      "cell_type": "code",
      "metadata": {
        "id": "vmrAqI_6Vj1t",
        "colab_type": "code",
        "outputId": "4da2cc5a-9143-437e-94c8-8dd659b10baa",
        "colab": {
          "base_uri": "https://localhost:8080/",
          "height": 136
        }
      },
      "source": [
        "X_scaled.head(3)"
      ],
      "execution_count": 0,
      "outputs": [
        {
          "output_type": "execute_result",
          "data": {
            "text/html": [
              "<div>\n",
              "<style scoped>\n",
              "    .dataframe tbody tr th:only-of-type {\n",
              "        vertical-align: middle;\n",
              "    }\n",
              "\n",
              "    .dataframe tbody tr th {\n",
              "        vertical-align: top;\n",
              "    }\n",
              "\n",
              "    .dataframe thead th {\n",
              "        text-align: right;\n",
              "    }\n",
              "</style>\n",
              "<table border=\"1\" class=\"dataframe\">\n",
              "  <thead>\n",
              "    <tr style=\"text-align: right;\">\n",
              "      <th></th>\n",
              "      <th>0</th>\n",
              "      <th>1</th>\n",
              "      <th>2</th>\n",
              "      <th>3</th>\n",
              "      <th>4</th>\n",
              "      <th>5</th>\n",
              "      <th>6</th>\n",
              "      <th>7</th>\n",
              "      <th>8</th>\n",
              "      <th>9</th>\n",
              "    </tr>\n",
              "  </thead>\n",
              "  <tbody>\n",
              "    <tr>\n",
              "      <th>0</th>\n",
              "      <td>-1.221158</td>\n",
              "      <td>-0.632753</td>\n",
              "      <td>0.730331</td>\n",
              "      <td>0.593997</td>\n",
              "      <td>2.378840</td>\n",
              "      <td>1.425178</td>\n",
              "      <td>-1.289121</td>\n",
              "      <td>-1.755451</td>\n",
              "      <td>-1.367672</td>\n",
              "      <td>-1.409943</td>\n",
              "    </tr>\n",
              "    <tr>\n",
              "      <th>1</th>\n",
              "      <td>-1.218724</td>\n",
              "      <td>-0.871076</td>\n",
              "      <td>0.490645</td>\n",
              "      <td>0.595799</td>\n",
              "      <td>2.347543</td>\n",
              "      <td>1.222797</td>\n",
              "      <td>-1.287163</td>\n",
              "      <td>-1.735130</td>\n",
              "      <td>-1.359342</td>\n",
              "      <td>-1.395903</td>\n",
              "    </tr>\n",
              "    <tr>\n",
              "      <th>2</th>\n",
              "      <td>-1.242461</td>\n",
              "      <td>-0.996349</td>\n",
              "      <td>0.365095</td>\n",
              "      <td>0.551596</td>\n",
              "      <td>2.183565</td>\n",
              "      <td>1.145126</td>\n",
              "      <td>-1.288800</td>\n",
              "      <td>-1.694395</td>\n",
              "      <td>-1.358600</td>\n",
              "      <td>-1.391894</td>\n",
              "    </tr>\n",
              "  </tbody>\n",
              "</table>\n",
              "</div>"
            ],
            "text/plain": [
              "          0         1         2  ...         7         8         9\n",
              "0 -1.221158 -0.632753  0.730331  ... -1.755451 -1.367672 -1.409943\n",
              "1 -1.218724 -0.871076  0.490645  ... -1.735130 -1.359342 -1.395903\n",
              "2 -1.242461 -0.996349  0.365095  ... -1.694395 -1.358600 -1.391894\n",
              "\n",
              "[3 rows x 10 columns]"
            ]
          },
          "metadata": {
            "tags": []
          },
          "execution_count": 21
        }
      ]
    },
    {
      "cell_type": "code",
      "metadata": {
        "id": "W2ZqHC7l4Jk_",
        "colab_type": "code",
        "colab": {}
      },
      "source": [
        "# 데이터 분할 하기\n",
        "X_train, X_test, y_train, y_test = train_test_split(X_scaled, gold['USD/T.oz'], shuffle=False, test_size=0.3)"
      ],
      "execution_count": 0,
      "outputs": []
    },
    {
      "cell_type": "code",
      "metadata": {
        "id": "DG6XBhGyJZGh",
        "colab_type": "code",
        "outputId": "2bfed529-3f9c-4eeb-9530-e0d196fc60d6",
        "colab": {
          "base_uri": "https://localhost:8080/",
          "height": 34
        }
      },
      "source": [
        "X_train.shape, X_test.shape, y_train.shape, y_test.shape"
      ],
      "execution_count": 0,
      "outputs": [
        {
          "output_type": "execute_result",
          "data": {
            "text/plain": [
              "((1608, 10), (690, 10), (1608,), (690,))"
            ]
          },
          "metadata": {
            "tags": []
          },
          "execution_count": 23
        }
      ]
    },
    {
      "cell_type": "code",
      "metadata": {
        "id": "MsriXDEYG7eq",
        "colab_type": "code",
        "colab": {}
      },
      "source": [
        "# X = gold['index_price'].values\n",
        "# y = gold['USD/T.oz'].values"
      ],
      "execution_count": 0,
      "outputs": []
    },
    {
      "cell_type": "code",
      "metadata": {
        "id": "zO_Ze-t8G7jq",
        "colab_type": "code",
        "colab": {}
      },
      "source": [
        "# X = X.reshape(-1, 1)\n",
        "# y = y.reshape(-1, 1)"
      ],
      "execution_count": 0,
      "outputs": []
    },
    {
      "cell_type": "markdown",
      "metadata": {
        "id": "1GLEOoT-x3wr",
        "colab_type": "text"
      },
      "source": [
        "# Test1\n",
        "### control: n_estimators, max_features, min_samples_leaf"
      ]
    },
    {
      "cell_type": "code",
      "metadata": {
        "id": "mIRZ-rreG7mE",
        "colab_type": "code",
        "outputId": "b8aa561e-63de-4531-b91f-055ebe9115da",
        "colab": {
          "base_uri": "https://localhost:8080/",
          "height": 406
        }
      },
      "source": [
        "# 모델 정의\n",
        "rm = RandomForestRegressor(criterion='mse', random_state=0, n_jobs=-1)\n",
        "params = {'n_estimators': [500,1000], 'max_features': ['auto', 'sqrt']}\n",
        "\n",
        "rm_cv = GridSearchCV(rm, params, return_train_score=True, error_score='raise', cv=5)\n",
        "rm_cv.fit(X_train, y_train)"
      ],
      "execution_count": 0,
      "outputs": [
        {
          "output_type": "stream",
          "text": [
            "/usr/local/lib/python3.6/dist-packages/sklearn/model_selection/_search.py:814: DeprecationWarning: The default of the `iid` parameter will change from True to False in version 0.22 and will be removed in 0.24. This will change numeric results when test-set sizes are unequal.\n",
            "  DeprecationWarning)\n"
          ],
          "name": "stderr"
        },
        {
          "output_type": "execute_result",
          "data": {
            "text/plain": [
              "GridSearchCV(cv=5, error_score='raise',\n",
              "             estimator=RandomForestRegressor(bootstrap=True, criterion='mse',\n",
              "                                             max_depth=None,\n",
              "                                             max_features='auto',\n",
              "                                             max_leaf_nodes=None,\n",
              "                                             min_impurity_decrease=0.0,\n",
              "                                             min_impurity_split=None,\n",
              "                                             min_samples_leaf=1,\n",
              "                                             min_samples_split=2,\n",
              "                                             min_weight_fraction_leaf=0.0,\n",
              "                                             n_estimators='warn', n_jobs=-1,\n",
              "                                             oob_score=False, random_state=0,\n",
              "                                             verbose=0, warm_start=False),\n",
              "             iid='warn', n_jobs=None,\n",
              "             param_grid={'max_features': ['auto', 'sqrt'],\n",
              "                         'min_samples_leaf': [1, 50, 100],\n",
              "                         'n_estimators': [500, 1000]},\n",
              "             pre_dispatch='2*n_jobs', refit=True, return_train_score=True,\n",
              "             scoring=None, verbose=0)"
            ]
          },
          "metadata": {
            "tags": []
          },
          "execution_count": 44
        }
      ]
    },
    {
      "cell_type": "code",
      "metadata": {
        "id": "sR5MHNUOckNX",
        "colab_type": "code",
        "outputId": "1c55318f-fd48-4e8d-c7eb-d44baa58d088",
        "colab": {
          "base_uri": "https://localhost:8080/",
          "height": 34
        }
      },
      "source": [
        "# best 파라미터\n",
        "rm_cv.best_params_"
      ],
      "execution_count": 0,
      "outputs": [
        {
          "output_type": "execute_result",
          "data": {
            "text/plain": [
              "{'max_features': 'sqrt', 'min_samples_leaf': 100, 'n_estimators': 1000}"
            ]
          },
          "metadata": {
            "tags": []
          },
          "execution_count": 45
        }
      ]
    },
    {
      "cell_type": "code",
      "metadata": {
        "id": "xStfNDjZcnq1",
        "colab_type": "code",
        "outputId": "3068a03e-48b2-4a93-c564-643e423c7d1f",
        "colab": {
          "base_uri": "https://localhost:8080/",
          "height": 140
        }
      },
      "source": [
        "# best 파라미터로 모델 fit\n",
        "rm_best = RandomForestRegressor(**rm_cv.best_params_)\n",
        "rm_best.fit(X_train, y_train)"
      ],
      "execution_count": 0,
      "outputs": [
        {
          "output_type": "execute_result",
          "data": {
            "text/plain": [
              "RandomForestRegressor(bootstrap=True, criterion='mse', max_depth=None,\n",
              "                      max_features='sqrt', max_leaf_nodes=None,\n",
              "                      min_impurity_decrease=0.0, min_impurity_split=None,\n",
              "                      min_samples_leaf=100, min_samples_split=2,\n",
              "                      min_weight_fraction_leaf=0.0, n_estimators=1000,\n",
              "                      n_jobs=None, oob_score=False, random_state=None,\n",
              "                      verbose=0, warm_start=False)"
            ]
          },
          "metadata": {
            "tags": []
          },
          "execution_count": 46
        }
      ]
    },
    {
      "cell_type": "code",
      "metadata": {
        "id": "OSCGmVYlWP8n",
        "colab_type": "code",
        "colab": {}
      },
      "source": [
        "# train data 확인\n",
        "train_pred = rm_best.predict(X_train)"
      ],
      "execution_count": 0,
      "outputs": []
    },
    {
      "cell_type": "code",
      "metadata": {
        "id": "wJ-wu4I7WQCw",
        "colab_type": "code",
        "outputId": "ee70c43f-1bf5-4309-d274-b3a4766b3c13",
        "colab": {
          "base_uri": "https://localhost:8080/",
          "height": 269
        }
      },
      "source": [
        "# 그래프로 확인\n",
        "plt.plot(gold.index[:1608], y_train, c='r')\n",
        "plt.plot(gold.index[:1608], train_pred, c='b')\n",
        "plt.legend()\n",
        "plt.show()"
      ],
      "execution_count": 0,
      "outputs": [
        {
          "output_type": "display_data",
          "data": {
            "image/png": "[encoded data removed]",
            "text/plain": [
              "<Figure size 432x288 with 1 Axes>"
            ]
          },
          "metadata": {
            "tags": []
          }
        }
      ]
    },
    {
      "cell_type": "code",
      "metadata": {
        "id": "X2Qb9nSb5mhZ",
        "colab_type": "code",
        "colab": {}
      },
      "source": [
        "# 모델 예측\n",
        "pred = rm_best.predict(X_test)"
      ],
      "execution_count": 0,
      "outputs": []
    },
    {
      "cell_type": "code",
      "metadata": {
        "id": "Uj7EBXXNH8Bt",
        "colab_type": "code",
        "outputId": "fe5dd00f-58ec-4898-a08d-8b128471af73",
        "colab": {
          "base_uri": "https://localhost:8080/",
          "height": 52
        }
      },
      "source": [
        "# rmse\n",
        "rmse = mean_squared_error(y_test, pred)**0.5\n",
        "print('rmse: {:.3f}'.format(rmse))\n",
        "\n",
        "# mae\n",
        "mae = mean_absolute_error(y_test, pred)\n",
        "print('mae: {:.3f}'.format(mae))"
      ],
      "execution_count": 0,
      "outputs": [
        {
          "output_type": "stream",
          "text": [
            "rmse: 63.029\n",
            "mae: 50.639\n"
          ],
          "name": "stdout"
        }
      ]
    },
    {
      "cell_type": "code",
      "metadata": {
        "id": "9PBtY0rCH7_E",
        "colab_type": "code",
        "outputId": "688c95c2-be1a-406d-cba5-39b05bc903d4",
        "colab": {
          "base_uri": "https://localhost:8080/",
          "height": 269
        }
      },
      "source": [
        "# 그래프로 확인\n",
        "plt.plot(gold.index[1608:], y_test, c='r')\n",
        "plt.plot(gold.index[1608:], pred, c='b')\n",
        "plt.legend()\n",
        "plt.show()"
      ],
      "execution_count": 0,
      "outputs": [
        {
          "output_type": "display_data",
          "data": {
            "image/png": "[encoded data removed]",
            "text/plain": [
              "<Figure size 432x288 with 1 Axes>"
            ]
          },
          "metadata": {
            "tags": []
          }
        }
      ]
    },
    {
      "cell_type": "code",
      "metadata": {
        "id": "luIm3dNYH8EY",
        "colab_type": "code",
        "colab": {}
      },
      "source": [
        ""
      ],
      "execution_count": 0,
      "outputs": []
    },
    {
      "cell_type": "code",
      "metadata": {
        "id": "-am_ucUfH75H",
        "colab_type": "code",
        "colab": {}
      },
      "source": [
        ""
      ],
      "execution_count": 0,
      "outputs": []
    },
    {
      "cell_type": "code",
      "metadata": {
        "id": "8eCqUD5nG7o8",
        "colab_type": "code",
        "colab": {}
      },
      "source": [
        ""
      ],
      "execution_count": 0,
      "outputs": []
    },
    {
      "cell_type": "code",
      "metadata": {
        "id": "Gz5ChhFGG7rx",
        "colab_type": "code",
        "colab": {}
      },
      "source": [
        ""
      ],
      "execution_count": 0,
      "outputs": []
    },
    {
      "cell_type": "code",
      "metadata": {
        "id": "KFGJDpsPf9RJ",
        "colab_type": "code",
        "colab": {}
      },
      "source": [
        ""
      ],
      "execution_count": 0,
      "outputs": []
    },
    {
      "cell_type": "markdown",
      "metadata": {
        "id": "dOnL2Q1uxt85",
        "colab_type": "text"
      },
      "source": [
        "# Test2 \n",
        "### control: n_estimators "
      ]
    },
    {
      "cell_type": "code",
      "metadata": {
        "id": "FMcC5pyQf9UC",
        "colab_type": "code",
        "outputId": "e15a4562-0d5e-4d0f-acae-0c11b9ac72ad",
        "colab": {
          "base_uri": "https://localhost:8080/",
          "height": 389
        }
      },
      "source": [
        "rm = RandomForestRegressor(criterion='mse', random_state=0, n_jobs=-1)\n",
        "params = {'n_estimators': [500,1000]}\n",
        "\n",
        "rm_cv = GridSearchCV(rm, params, return_train_score=True, error_score='raise')\n",
        "rm_cv.fit(X_train, y_train)"
      ],
      "execution_count": 0,
      "outputs": [
        {
          "output_type": "stream",
          "text": [
            "/usr/local/lib/python3.6/dist-packages/sklearn/model_selection/_split.py:1978: FutureWarning: The default value of cv will change from 3 to 5 in version 0.22. Specify it explicitly to silence this warning.\n",
            "  warnings.warn(CV_WARNING, FutureWarning)\n",
            "/usr/local/lib/python3.6/dist-packages/sklearn/model_selection/_search.py:814: DeprecationWarning: The default of the `iid` parameter will change from True to False in version 0.22 and will be removed in 0.24. This will change numeric results when test-set sizes are unequal.\n",
            "  DeprecationWarning)\n"
          ],
          "name": "stderr"
        },
        {
          "output_type": "execute_result",
          "data": {
            "text/plain": [
              "GridSearchCV(cv='warn', error_score='raise',\n",
              "             estimator=RandomForestRegressor(bootstrap=True, criterion='mse',\n",
              "                                             max_depth=None,\n",
              "                                             max_features='auto',\n",
              "                                             max_leaf_nodes=None,\n",
              "                                             min_impurity_decrease=0.0,\n",
              "                                             min_impurity_split=None,\n",
              "                                             min_samples_leaf=1,\n",
              "                                             min_samples_split=2,\n",
              "                                             min_weight_fraction_leaf=0.0,\n",
              "                                             n_estimators='warn', n_jobs=-1,\n",
              "                                             oob_score=False, random_state=0,\n",
              "                                             verbose=0, warm_start=False),\n",
              "             iid='warn', n_jobs=None, param_grid={'n_estimators': [500, 1000]},\n",
              "             pre_dispatch='2*n_jobs', refit=True, return_train_score=True,\n",
              "             scoring=None, verbose=0)"
            ]
          },
          "metadata": {
            "tags": []
          },
          "execution_count": 24
        }
      ]
    },
    {
      "cell_type": "code",
      "metadata": {
        "id": "bklXz1QZxhq8",
        "colab_type": "code",
        "outputId": "09b842ff-946c-4ba0-ef92-a72ecca5dc2e",
        "colab": {
          "base_uri": "https://localhost:8080/",
          "height": 34
        }
      },
      "source": [
        "# best 파라미터\n",
        "rm_cv.best_params_"
      ],
      "execution_count": 0,
      "outputs": [
        {
          "output_type": "execute_result",
          "data": {
            "text/plain": [
              "{'n_estimators': 500}"
            ]
          },
          "metadata": {
            "tags": []
          },
          "execution_count": 25
        }
      ]
    },
    {
      "cell_type": "code",
      "metadata": {
        "id": "gtXYFzCFxhtU",
        "colab_type": "code",
        "outputId": "6a307483-1b7b-442b-af1f-a3343351276a",
        "colab": {
          "base_uri": "https://localhost:8080/",
          "height": 140
        }
      },
      "source": [
        "# best 파라미터로 모델 fit\n",
        "rm_best = RandomForestRegressor(**rm_cv.best_params_)\n",
        "rm_best.fit(X_train, y_train)"
      ],
      "execution_count": 0,
      "outputs": [
        {
          "output_type": "execute_result",
          "data": {
            "text/plain": [
              "RandomForestRegressor(bootstrap=True, criterion='mse', max_depth=None,\n",
              "                      max_features='auto', max_leaf_nodes=None,\n",
              "                      min_impurity_decrease=0.0, min_impurity_split=None,\n",
              "                      min_samples_leaf=1, min_samples_split=2,\n",
              "                      min_weight_fraction_leaf=0.0, n_estimators=500,\n",
              "                      n_jobs=None, oob_score=False, random_state=None,\n",
              "                      verbose=0, warm_start=False)"
            ]
          },
          "metadata": {
            "tags": []
          },
          "execution_count": 26
        }
      ]
    },
    {
      "cell_type": "code",
      "metadata": {
        "id": "kW4Uug8CR7QZ",
        "colab_type": "code",
        "colab": {}
      },
      "source": [
        "# train data 확인\n",
        "train_pred = rm_best.predict(X_train)"
      ],
      "execution_count": 0,
      "outputs": []
    },
    {
      "cell_type": "code",
      "metadata": {
        "id": "PF7siPvFRnqs",
        "colab_type": "code",
        "outputId": "fbae03ab-d1fd-4122-cb0a-95e1c40cb3f8",
        "colab": {
          "base_uri": "https://localhost:8080/",
          "height": 269
        }
      },
      "source": [
        "# 그래프로 확인\n",
        "plt.plot(gold.index[:1838], y_train, c='r')\n",
        "plt.plot(gold.index[:1838], train_pred, c='b')\n",
        "plt.legend()\n",
        "plt.show()"
      ],
      "execution_count": 0,
      "outputs": [
        {
          "output_type": "display_data",
          "data": {
            "image/png": "[encoded data removed]",
            "text/plain": [
              "<Figure size 432x288 with 1 Axes>"
            ]
          },
          "metadata": {
            "tags": []
          }
        }
      ]
    },
    {
      "cell_type": "code",
      "metadata": {
        "id": "kn1OeAkVxhv1",
        "colab_type": "code",
        "colab": {}
      },
      "source": [
        "# 모델 예측\n",
        "test_pred = rm_best.predict(X_test)"
      ],
      "execution_count": 0,
      "outputs": []
    },
    {
      "cell_type": "code",
      "metadata": {
        "id": "nKgfM8Uqxj-6",
        "colab_type": "code",
        "colab": {}
      },
      "source": [
        "# rmse\n",
        "rmse = mean_squared_error(y_test, test_pred)**0.5\n",
        "print('rmse: {:.3f}'.format(rmse))\n",
        "\n",
        "# mae\n",
        "mae = mean_absolute_error(y_test, test_pred)\n",
        "print('mae: {:.3f}'.format(mae))"
      ],
      "execution_count": 0,
      "outputs": []
    },
    {
      "cell_type": "code",
      "metadata": {
        "id": "dz-EdT_axh1c",
        "colab_type": "code",
        "outputId": "7b91c67b-b7a3-4055-bcbd-1025e9c857b8",
        "colab": {
          "base_uri": "https://localhost:8080/",
          "height": 269
        }
      },
      "source": [
        "# 그래프로 확인\n",
        "plt.plot(gold.index[1838:], y_test, c='r')\n",
        "plt.plot(gold.index[1838:], test_pred, c='b')\n",
        "plt.legend()\n",
        "plt.show()"
      ],
      "execution_count": 0,
      "outputs": [
        {
          "output_type": "display_data",
          "data": {
            "image/png": "[encoded data removed]",
            "text/plain": [
              "<Figure size 432x288 with 1 Axes>"
            ]
          },
          "metadata": {
            "tags": []
          }
        }
      ]
    },
    {
      "cell_type": "code",
      "metadata": {
        "id": "a6ORxrRfxh7C",
        "colab_type": "code",
        "outputId": "e2349966-8415-4d36-917a-b74dd96d4f4d",
        "colab": {
          "base_uri": "https://localhost:8080/",
          "height": 611
        }
      },
      "source": [
        "# 잔차 확인\n",
        "plt.scatter(pred, pred-y_test, c='blue', marker='o')\n",
        "plt.xlabel('prediction')\n",
        "plt.ylabel('residual')\n",
        "plt.hlines(y=0, xmin=900, xmax=1500, lw=2, color='red')\n",
        "plt.xlim([1200, 1300])\n",
        "plt.show()"
      ],
      "execution_count": 0,
      "outputs": [
        {
          "output_type": "error",
          "ename": "TypeError",
          "evalue": "ignored",
          "traceback": [
            "\u001b[0;31m---------------------------------------------------------------------------\u001b[0m",
            "\u001b[0;31mTypeError\u001b[0m                                 Traceback (most recent call last)",
            "\u001b[0;32m<ipython-input-19-bc87f7b7fd34>\u001b[0m in \u001b[0;36m<module>\u001b[0;34m()\u001b[0m\n\u001b[1;32m      3\u001b[0m \u001b[0mplt\u001b[0m\u001b[0;34m.\u001b[0m\u001b[0mylabel\u001b[0m\u001b[0;34m(\u001b[0m\u001b[0;34m'residual'\u001b[0m\u001b[0;34m)\u001b[0m\u001b[0;34m\u001b[0m\u001b[0;34m\u001b[0m\u001b[0m\n\u001b[1;32m      4\u001b[0m \u001b[0mplt\u001b[0m\u001b[0;34m.\u001b[0m\u001b[0mhlines\u001b[0m\u001b[0;34m(\u001b[0m\u001b[0my\u001b[0m\u001b[0;34m=\u001b[0m\u001b[0;36m0\u001b[0m\u001b[0;34m,\u001b[0m \u001b[0mxmin\u001b[0m\u001b[0;34m=\u001b[0m\u001b[0;36m900\u001b[0m\u001b[0;34m,\u001b[0m \u001b[0mxmax\u001b[0m\u001b[0;34m=\u001b[0m\u001b[0;36m1500\u001b[0m\u001b[0;34m,\u001b[0m \u001b[0mlw\u001b[0m\u001b[0;34m=\u001b[0m\u001b[0;36m2\u001b[0m\u001b[0;34m,\u001b[0m \u001b[0mcolor\u001b[0m\u001b[0;34m=\u001b[0m\u001b[0;34m'red'\u001b[0m\u001b[0;34m)\u001b[0m\u001b[0;34m\u001b[0m\u001b[0;34m\u001b[0m\u001b[0m\n\u001b[0;32m----> 5\u001b[0;31m \u001b[0mplt\u001b[0m\u001b[0;34m.\u001b[0m\u001b[0mxlim\u001b[0m\u001b[0;34m(\u001b[0m\u001b[0;34m[\u001b[0m\u001b[0;36m1200\u001b[0m\u001b[0;34m,\u001b[0m \u001b[0;36m1300\u001b[0m\u001b[0;34m]\u001b[0m\u001b[0;34m,\u001b[0m \u001b[0mc\u001b[0m\u001b[0;34m=\u001b[0m\u001b[0;34m'white'\u001b[0m\u001b[0;34m)\u001b[0m\u001b[0;34m\u001b[0m\u001b[0;34m\u001b[0m\u001b[0m\n\u001b[0m\u001b[1;32m      6\u001b[0m \u001b[0mplt\u001b[0m\u001b[0;34m.\u001b[0m\u001b[0mshow\u001b[0m\u001b[0;34m(\u001b[0m\u001b[0;34m)\u001b[0m\u001b[0;34m\u001b[0m\u001b[0;34m\u001b[0m\u001b[0m\n",
            "\u001b[0;32m/usr/local/lib/python3.6/dist-packages/matplotlib/pyplot.py\u001b[0m in \u001b[0;36mxlim\u001b[0;34m(*args, **kwargs)\u001b[0m\n\u001b[1;32m   1440\u001b[0m     \u001b[0;32mif\u001b[0m \u001b[0;32mnot\u001b[0m \u001b[0margs\u001b[0m \u001b[0;32mand\u001b[0m \u001b[0;32mnot\u001b[0m \u001b[0mkwargs\u001b[0m\u001b[0;34m:\u001b[0m\u001b[0;34m\u001b[0m\u001b[0;34m\u001b[0m\u001b[0m\n\u001b[1;32m   1441\u001b[0m         \u001b[0;32mreturn\u001b[0m \u001b[0max\u001b[0m\u001b[0;34m.\u001b[0m\u001b[0mget_xlim\u001b[0m\u001b[0;34m(\u001b[0m\u001b[0;34m)\u001b[0m\u001b[0;34m\u001b[0m\u001b[0;34m\u001b[0m\u001b[0m\n\u001b[0;32m-> 1442\u001b[0;31m     \u001b[0mret\u001b[0m \u001b[0;34m=\u001b[0m \u001b[0max\u001b[0m\u001b[0;34m.\u001b[0m\u001b[0mset_xlim\u001b[0m\u001b[0;34m(\u001b[0m\u001b[0;34m*\u001b[0m\u001b[0margs\u001b[0m\u001b[0;34m,\u001b[0m \u001b[0;34m**\u001b[0m\u001b[0mkwargs\u001b[0m\u001b[0;34m)\u001b[0m\u001b[0;34m\u001b[0m\u001b[0;34m\u001b[0m\u001b[0m\n\u001b[0m\u001b[1;32m   1443\u001b[0m     \u001b[0;32mreturn\u001b[0m \u001b[0mret\u001b[0m\u001b[0;34m\u001b[0m\u001b[0;34m\u001b[0m\u001b[0m\n\u001b[1;32m   1444\u001b[0m \u001b[0;34m\u001b[0m\u001b[0m\n",
            "\u001b[0;31mTypeError\u001b[0m: set_xlim() got an unexpected keyword argument 'c'"
          ]
        },
        {
          "output_type": "display_data",
          "data": {
            "image/png": "[encoded data removed]",
            "text/plain": [
              "<Figure size 432x288 with 1 Axes>"
            ]
          },
          "metadata": {
            "tags": []
          }
        }
      ]
    },
    {
      "cell_type": "code",
      "metadata": {
        "id": "U2QNGANRxh4U",
        "colab_type": "code",
        "colab": {}
      },
      "source": [
        ""
      ],
      "execution_count": 0,
      "outputs": []
    },
    {
      "cell_type": "code",
      "metadata": {
        "id": "lJ6D1fj_xh90",
        "colab_type": "code",
        "colab": {}
      },
      "source": [
        ""
      ],
      "execution_count": 0,
      "outputs": []
    },
    {
      "cell_type": "code",
      "metadata": {
        "id": "W61GOsRDdKo7",
        "colab_type": "code",
        "colab": {}
      },
      "source": [
        ""
      ],
      "execution_count": 0,
      "outputs": []
    },
    {
      "cell_type": "code",
      "metadata": {
        "id": "AdwGq8plcZSQ",
        "colab_type": "code",
        "colab": {}
      },
      "source": [
        ""
      ],
      "execution_count": 0,
      "outputs": []
    },
    {
      "cell_type": "code",
      "metadata": {
        "id": "wxlTvRgZcZae",
        "colab_type": "code",
        "colab": {}
      },
      "source": [
        ""
      ],
      "execution_count": 0,
      "outputs": []
    },
    {
      "cell_type": "code",
      "metadata": {
        "id": "lagV5ZiScZYA",
        "colab_type": "code",
        "colab": {}
      },
      "source": [
        ""
      ],
      "execution_count": 0,
      "outputs": []
    },
    {
      "cell_type": "code",
      "metadata": {
        "id": "oeHwGrljcZVL",
        "colab_type": "code",
        "colab": {}
      },
      "source": [
        ""
      ],
      "execution_count": 0,
      "outputs": []
    },
    {
      "cell_type": "markdown",
      "metadata": {
        "id": "bnq0ocL6yFyE",
        "colab_type": "text"
      },
      "source": [
        "# Result"
      ]
    },
    {
      "cell_type": "code",
      "metadata": {
        "id": "Mhd76BIPcb21",
        "colab_type": "code",
        "colab": {}
      },
      "source": [
        "import os\n",
        "import pandas as pd\n",
        "import numpy as np\n",
        "import matplotlib.pyplot as plt\n",
        "import pickle\n",
        "from sklearn.preprocessing import StandardScaler\n",
        "from sklearn.model_selection import train_test_split\n",
        "from sklearn.model_selection import GridSearchCV\n",
        "from sklearn.ensemble import RandomForestRegressor\n",
        "from sklearn.metrics import r2_score\n",
        "from sklearn.metrics import mean_squared_error\n",
        "# 구글 연동\n",
        "from google.colab import drive\n",
        "drive.mount('/content/drive')\n",
        "os.chdir('/content/drive/My Drive')\n",
        "# 데이터 불러오기\n",
        "gold = pickle.load(open('pre_gold_price.pkl','rb'))\n",
        "# 데이터 추출\n",
        "feature = gold.loc[:, ['index_price', 'cny/krw', 'usd/krw', '100jpy/krw',\n",
        "                       'eur/krw', 'gbp/krw', 'nasdaq', 'kospi', 'dow', 'snp500']]\n",
        "# scale\n",
        "scaler = StandardScaler()\n",
        "scaler.fit(feature)\n",
        "X_scaled = scaler.transform(feature)\n",
        "X_scaled = pd.DataFrame(X_scaled)\n",
        "# 데이터 분할 하기\n",
        "X_train, X_test, y_train, y_test = train_test_split(X_scaled, gold['USD/T.oz'],\n",
        "                                                    shuffle=False, test_size=0.2)\n",
        "X_train.shape, X_test.shape, y_train.shape, y_test.shape\n",
        "# 모델 정의\n",
        "rm = RandomForestRegressor(criterion='mse', random_state=0, n_jobs=-1)\n",
        "params = {'n_estimators': [500,1000]}\n",
        "rm_cv = GridSearchCV(rm, params)\n",
        "rm_cv.fit(X_train, y_train)\n",
        "# best 파라미터\n",
        "rm_cv.best_params_ # {'n_estimators': 500}\n",
        "# best 파라미터로 모델 fit\n",
        "rm_best = RandomForestRegressor(**rm_cv.best_params_)\n",
        "rm_best.fit(X_train, y_train)\n",
        "# 모델 예측\n",
        "pred = rm_best.predict(X_test)\n",
        "# r2\n",
        "r2 = r2_score(y_test, pred)\n",
        "print('r2: {:.3f}'.format(r2))\n",
        "# rmse\n",
        "rmse = mean_squared_error(y_test, pred)**0.5\n",
        "print('rmse: {:.3f}'.format(rmse))\n",
        "# mae\n",
        "mae = mean_absolute_error(y_test, pred)\n",
        "print('mae: {:.3f}'.format(mae))\n",
        "# 그래프로 확인\n",
        "plt.plot(gold.index[1838:], y_test, c='r')\n",
        "plt.plot(gold.index[1838:], pred, c='b')\n",
        "plt.legend()\n",
        "plt.show()\n",
        "# 잔차 확인\n",
        "plt.scatter(pred, pred-y_test, c='blue', marker='o')\n",
        "plt.xlabel('prediction')\n",
        "plt.ylabel('residual')\n",
        "plt.hlines(y=0, xmin=900, xmax=1500, lw=2, color='red')\n",
        "plt.xlim([1200, 1300])\n",
        "plt.show()"
      ],
      "execution_count": 0,
      "outputs": []
    }
  ]
}